{
 "cells": [
  {
   "cell_type": "markdown",
   "id": "46a8a7a0",
   "metadata": {
    "deletable": false,
    "editable": false,
    "run_control": {
     "frozen": true
    }
   },
   "source": [
    "<hr style=\"height:.9px;border:none;color:#333;background-color:#333;\" />\n",
    "<hr style=\"height:.9px;border:none;color:#333;background-color:#333;\" />\n",
    "\n",
    "<h2>Homework - Feature Engineering</h2>\n",
    "<h4>DAT-5303 | Machine Learning</h4>\n",
    "\n",
    "<br>\n",
    "<hr style=\"height:.9px;border:none;color:#333;background-color:#333;\" />\n",
    "<hr style=\"height:.9px;border:none;color:#333;background-color:#333;\" />"
   ]
  },
  {
   "cell_type": "markdown",
   "id": "894d6d3d",
   "metadata": {},
   "source": [
    "TEAM SIX"
   ]
  },
  {
   "cell_type": "markdown",
   "id": "a5eb8e6f",
   "metadata": {
    "deletable": false,
    "editable": false,
    "run_control": {
     "frozen": true
    }
   },
   "source": [
    "<hr style=\"height:.9px;border:none;color:#333;background-color:#333;\" />\n",
    "\n",
    "<h3>Step 1: Hypothesize on Features to Engineer</h3><br>\n",
    "Write a 2-3 sentence hypothesis on the effect you believe each new feature will have on the response variables (<em>Sale_Price</em> AND <em>log_Sale_Price</em>) in a markdown cell."
   ]
  },
  {
   "cell_type": "markdown",
   "id": "d9644195",
   "metadata": {},
   "source": [
    " # New Features \n",
    " ### 1. Garage_Cars_and_TotRms_AbvGr\n",
    "The sum of rooms available in the house and the number of cars that can fit in a garage will increase the sale_price. A family living in a big house with lots of rooms will most likely have more than one car hence they would pay more to park their car safely in their garage rather than park it by the sidewalk where it's not safe.\n",
    "\n",
    " ### 2. Total_Bsmt_SF_and_Gr_Liv_Area\n",
    "The sum of the ground living area and the basement will increase the Sale_Price because these are the mainly used and visible areas to buyers. Residents usually spend majority of their time in these areas.\n",
    "\n",
    "### 3. Garage_Area_and_First_Flr_SF\n",
    "People use garage for various purposes such as a workshop or as a storage room. The sum of the first floor area and garage is expected to increase the Sale price of the property since residents have more space to use.\n",
    "\n"
   ]
  },
  {
   "cell_type": "markdown",
   "id": "bedf81be",
   "metadata": {
    "deletable": false,
    "editable": false,
    "run_control": {
     "frozen": true
    }
   },
   "source": [
    "<hr style=\"height:.9px;border:none;color:#333;background-color:#333;\" />\n",
    "<h3>Step 2: Code the New Features</h3><br>\n",
    "Use the code cell below to develop the features you have hypothesized."
   ]
  },
  {
   "cell_type": "code",
   "execution_count": null,
   "id": "b153ad11",
   "metadata": {},
   "outputs": [],
   "source": [
    "# code here\n",
    "\n",
    "# importing libraries\n",
    "import pandas as pd                   # data science essentials\n",
    "import matplotlib.pyplot as plt       # essential graphical output\n",
    "import seaborn as sns                 # enhanced graphical output\n",
    "import numpy as np                    # mathematical essentials\n",
    "import statsmodels.formula.api as smf # regression modeling\n",
    "\n",
    "\n",
    "# setting pandas print options\n",
    "pd.set_option('display.max_rows', 500)\n",
    "pd.set_option('display.max_columns', 500)\n",
    "pd.set_option('display.width', 1000)\n",
    "\n",
    "\n",
    "# specifying file name\n",
    "file = './__datasets/Ames Housing Dataset.xlsx'\n",
    "\n",
    "\n",
    "# reading the file into Python\n",
    "housing = pd.read_excel(file)\n",
    "housing.head()\n",
    "\n",
    "\n",
    "# code will not produce an output"
   ]
  },
  {
   "cell_type": "code",
   "execution_count": null,
   "id": "e7106359",
   "metadata": {},
   "outputs": [],
   "source": [
    "#checking for missing values\n",
    "housing.isnull().sum(axis = 0)"
   ]
  },
  {
   "cell_type": "code",
   "execution_count": null,
   "id": "4c55f7c2",
   "metadata": {},
   "outputs": [],
   "source": [
    "# looping to detect features with missing values\n",
    "for col in housing:\n",
    "\n",
    "    # creating columns with 1s if missing and 0 if not\n",
    "    if housing[col].isnull().astype(int).sum() > 0:\n",
    "        housing['m_'+col] = housing[col].isnull().astype(int)\n",
    "\n",
    "\n",
    "# summing the missing value flags to check the results of the loop above\n",
    "housing[    ['m_Mas_Vnr_Area', 'm_Total_Bsmt_SF',\n",
    "             'm_Garage_Cars', 'm_Garage_Area']    ].sum(axis = 0)"
   ]
  },
  {
   "cell_type": "code",
   "execution_count": null,
   "id": "f98659ee",
   "metadata": {},
   "outputs": [],
   "source": [
    "# imputing everything else with the zero\n",
    "fill = 0\n",
    "\n",
    "# imputing 'Mas Vnr Area'\n",
    "housing['Mas_Vnr_Area'] = housing['Mas_Vnr_Area'].fillna(fill)\n",
    "\n",
    "# Total_Bsmt_SF\n",
    "housing['Total_Bsmt_SF'] = housing['Total_Bsmt_SF'].fillna(fill)\n",
    "\n",
    "# Garage_Cars\n",
    "fill = 0\n",
    "housing['Garage_Cars'] = housing['Garage_Cars'].fillna(fill)\n",
    "\n",
    "# Garage_Area\n",
    "fill = 0\n",
    "housing['Garage_Area'] = housing['Garage_Area'].fillna(fill)"
   ]
  },
  {
   "cell_type": "code",
   "execution_count": null,
   "id": "f07938f5",
   "metadata": {},
   "outputs": [],
   "source": [
    "# making sure all missing values have been taken care of\n",
    "housing.isnull().any().any()"
   ]
  },
  {
   "cell_type": "code",
   "execution_count": null,
   "id": "f206a484",
   "metadata": {},
   "outputs": [],
   "source": [
    "#creating new columns\n",
    "\n",
    "#total number of rooms + fireplaces\n",
    "housing['Garage_Cars_and_TotRms_AbvGr'] = housing['Garage_Cars'] + housing['TotRms_AbvGr']\n",
    "\n",
    " #Total_Bsmt_SF + Gr_Liv_Area\n",
    "housing['Total_Bsmt_SF_and_Gr_Liv_Area'] = housing['Total_Bsmt_SF'] + housing['Gr_Liv_Area']\n",
    "\n",
    "#Garage_Area + Porch_Area\n",
    "housing['Garage_Area_and_First_Flr_SF'] = housing['Garage_Area'] + housing['First_Flr_SF']\n"
   ]
  },
  {
   "cell_type": "code",
   "execution_count": null,
   "id": "297b9e48",
   "metadata": {},
   "outputs": [],
   "source": [
    "#checking to see if the new columns are created\n",
    "housing.head()"
   ]
  },
  {
   "cell_type": "markdown",
   "id": "f095cc33",
   "metadata": {
    "deletable": false,
    "editable": false,
    "run_control": {
     "frozen": true
    }
   },
   "source": [
    "<hr style=\"height:.9px;border:none;color:#333;background-color:#333;\" />\n",
    "<h3>Step 3: Check the Results</h3><br>\n",
    "Develop a correlation matrix or a heatmap to show the linear relationships between your five new features and the response variables (<em>Sale_Price</em> AND <em>log_Sale_Price</em>)."
   ]
  },
  {
   "cell_type": "code",
   "execution_count": null,
   "id": "b4903449",
   "metadata": {
    "cell_style": "center"
   },
   "outputs": [],
   "source": [
    "# log transforming Sale_Price and saving it to the dataset\n",
    "housing['log_Sale_Price'] = np.log(housing['Sale_Price'])\n",
    "\n",
    "# log transforming new colmuns and saving it to the dataset\n",
    "housing['log_Total_Bsmt_SF_and_Gr_Liv_Area'] = np.log(housing['Total_Bsmt_SF_and_Gr_Liv_Area'])\n",
    "\n",
    "housing['log_Garage_Cars_and_TotRms_AbvGr'] = np.log(housing['Garage_Cars_and_TotRms_AbvGr'])\n",
    "\n",
    "housing['log_Garage_Area_and_First_Flr_SF'] = np.log(housing['Garage_Area_and_First_Flr_SF'] + 0.0000001)"
   ]
  },
  {
   "cell_type": "code",
   "execution_count": null,
   "id": "7c5ed274",
   "metadata": {
    "cell_style": "split"
   },
   "outputs": [],
   "source": [
    "# developing a histogram using HISTPLOT\n",
    "sns.histplot(data   = housing,\n",
    "             x      = 'Sale_Price',\n",
    "             kde    = True)\n",
    "\n",
    "\n",
    "# title and axis labels\n",
    "plt.title(label   = \"Original Distribution of Housing Sale Prices\")\n",
    "plt.xlabel(xlabel = \"Sale Price\") # avoiding using dataset labels\n",
    "plt.ylabel(ylabel = \"Count\")\n",
    "\n",
    "# displaying the histogram\n",
    "plt.show()"
   ]
  },
  {
   "cell_type": "code",
   "execution_count": null,
   "id": "6f8dbb39",
   "metadata": {
    "cell_style": "split"
   },
   "outputs": [],
   "source": [
    "# developing a histogram using HISTPLOT\n",
    "sns.histplot(data   = housing,\n",
    "             x      = 'Total_Bsmt_SF_and_Gr_Liv_Area',\n",
    "             kde    = True)\n",
    "\n",
    "\n",
    "# title and axis labels\n",
    "plt.title(label   = \"Original Distribution of Housing Sale Prices\")\n",
    "plt.xlabel(xlabel = \"Total_Bsmt_SF_and_Gr_Liv_Area\") # avoiding using dataset labels\n",
    "plt.ylabel(ylabel = \"Count\")\n",
    "\n",
    "# displaying the histogram\n",
    "plt.show()"
   ]
  },
  {
   "cell_type": "code",
   "execution_count": null,
   "id": "4d8a616c",
   "metadata": {},
   "outputs": [],
   "source": []
  },
  {
   "cell_type": "code",
   "execution_count": null,
   "id": "de30397f",
   "metadata": {
    "cell_style": "split"
   },
   "outputs": [],
   "source": [
    "# developing a histogram using HISTPLOT\n",
    "sns.histplot(data   = housing,\n",
    "             x      = 'Garage_Cars_and_TotRms_AbvGr',\n",
    "             kde    = True)\n",
    "\n",
    "\n",
    "# title and axis labels\n",
    "plt.title(label   = \"Original Distribution of Housing Sale Prices\")\n",
    "plt.xlabel(xlabel = \"Garage_Cars_and_TotRms_AbvGr\") # avoiding using dataset labels\n",
    "plt.ylabel(ylabel = \"Count\")\n",
    "\n",
    "# displaying the histogram\n",
    "plt.show()"
   ]
  },
  {
   "cell_type": "code",
   "execution_count": null,
   "id": "c4b37d91",
   "metadata": {
    "cell_style": "split"
   },
   "outputs": [],
   "source": [
    "# developing a histogram using HISTPLOT\n",
    "sns.histplot(data   = housing,\n",
    "             x      = 'Garage_Area_and_First_Flr_SF',\n",
    "             kde    = True)\n",
    "\n",
    "\n",
    "# title and axis labels\n",
    "plt.title(label   = \"Original Distribution of Housing Sale Prices\")\n",
    "plt.xlabel(xlabel = \"Garage_Area_and_First_Flr_SF\") # avoiding using dataset labels\n",
    "plt.ylabel(ylabel = \"Count\")\n",
    "\n",
    "# displaying the histogram\n",
    "plt.show()"
   ]
  },
  {
   "cell_type": "code",
   "execution_count": null,
   "id": "d035e01d",
   "metadata": {},
   "outputs": [],
   "source": []
  },
  {
   "cell_type": "code",
   "execution_count": null,
   "id": "ee429b97",
   "metadata": {
    "cell_style": "split"
   },
   "outputs": [],
   "source": [
    "# developing a histogram using HISTPLOT\n",
    "sns.histplot(data   = housing,\n",
    "             x      = 'log_Sale_Price',\n",
    "             kde    = True)\n",
    "\n",
    "\n",
    "# title and axis labels\n",
    "plt.title(label   = \"Original Distribution of Housing Sale Prices\")\n",
    "plt.xlabel(xlabel = \"log_Sale Price\") # avoiding using dataset labels\n",
    "plt.ylabel(ylabel = \"Count\")\n",
    "\n",
    "# displaying the histogram\n",
    "plt.show()"
   ]
  },
  {
   "cell_type": "code",
   "execution_count": null,
   "id": "83182a65",
   "metadata": {
    "cell_style": "split"
   },
   "outputs": [],
   "source": [
    "# developing a histogram using HISTPLOT\n",
    "sns.histplot(data   = housing,\n",
    "             x      = 'log_Total_Bsmt_SF_and_Gr_Liv_Area',\n",
    "             kde    = True)\n",
    "\n",
    "\n",
    "# title and axis labels\n",
    "plt.title(label   = \"Original Distribution of Housing Sale Prices\")\n",
    "plt.xlabel(xlabel = \"log_Total_Bsmt_SF_and_Gr_Liv_Area\") # avoiding using dataset labels\n",
    "plt.ylabel(ylabel = \"Count\")\n",
    "\n",
    "# displaying the histogram\n",
    "plt.show()"
   ]
  },
  {
   "cell_type": "code",
   "execution_count": null,
   "id": "4611d9ba",
   "metadata": {
    "cell_style": "center"
   },
   "outputs": [],
   "source": []
  },
  {
   "cell_type": "code",
   "execution_count": null,
   "id": "6b5c1132",
   "metadata": {
    "cell_style": "split"
   },
   "outputs": [],
   "source": [
    "# developing a histogram using HISTPLOT\n",
    "sns.histplot(data   = housing,\n",
    "             x      = 'log_Garage_Cars_and_TotRms_AbvGr',\n",
    "             kde    = True)\n",
    "\n",
    "\n",
    "# title and axis labels\n",
    "plt.title(label   = \"Original Distribution of Housing Sale Prices\")\n",
    "plt.xlabel(xlabel = \"log_Garage_Cars_and_TotRms_AbvGr\") # avoiding using dataset labels\n",
    "plt.ylabel(ylabel = \"Count\")\n",
    "\n",
    "# displaying the histogram\n",
    "plt.show()"
   ]
  },
  {
   "cell_type": "code",
   "execution_count": null,
   "id": "bd6d4712",
   "metadata": {
    "cell_style": "split"
   },
   "outputs": [],
   "source": [
    "# developing a histogram using HISTPLOT\n",
    "sns.histplot(data   = housing,\n",
    "             x      = 'log_Garage_Area_and_First_Flr_SF',\n",
    "             kde    = True)\n",
    "\n",
    "\n",
    "# title and axis labels\n",
    "plt.title(label   = \"Original Distribution of Housing Sale Prices\")\n",
    "plt.xlabel(xlabel = \"log_Garage_Area_and_First_Flr_SF\") # avoiding using dataset labels\n",
    "plt.ylabel(ylabel = \"Count\")\n",
    "\n",
    "# displaying the histogram\n",
    "plt.show()"
   ]
  },
  {
   "cell_type": "code",
   "execution_count": null,
   "id": "0ac5860d",
   "metadata": {
    "cell_style": "split"
   },
   "outputs": [],
   "source": [
    "# developing a small correlation matrix\n",
    "zeroes_corr = housing.corr().round(decimals = 2)\n",
    "\n",
    "\n",
    "# checking the correlations of the newly-created variables with Sale_Price\n",
    "zeroes_corr.loc['Sale_Price',                   # Y-variable\n",
    "               ['Total_Bsmt_SF_and_Gr_Liv_Area', # X-variables\n",
    "                'Garage_Cars_and_TotRms_AbvGr', \n",
    "                'Garage_Area_and_First_Flr_SF']] \\\n",
    "                .sort_values(ascending = False)"
   ]
  },
  {
   "cell_type": "code",
   "execution_count": null,
   "id": "aff40b4a",
   "metadata": {
    "cell_style": "split"
   },
   "outputs": [],
   "source": [
    "# developing a small correlation matrix\n",
    "zeroes_corr = housing.corr().round(decimals = 2)\n",
    "\n",
    "\n",
    "# checking the correlations of the newly-created variables with Sale_Price\n",
    "zeroes_corr.loc['log_Sale_Price',                   # Y-variable\n",
    "               ['log_Total_Bsmt_SF_and_Gr_Liv_Area', # X-variables\n",
    "                'log_Garage_Cars_and_TotRms_AbvGr', \n",
    "                'log_Garage_Area_and_First_Flr_SF']] \\\n",
    "                .sort_values(ascending = False)"
   ]
  },
  {
   "cell_type": "code",
   "execution_count": null,
   "id": "0c784170",
   "metadata": {},
   "outputs": [],
   "source": []
  },
  {
   "cell_type": "code",
   "execution_count": null,
   "id": "69c3cdaa",
   "metadata": {
    "cell_style": "split"
   },
   "outputs": [],
   "source": [
    "# code here\n",
    "#creating a correlation for the matrix\n",
    "df_corr = housing.corr().round(2)\n",
    "\n",
    "\n",
    "# setting figure size\n",
    "fig, ax = plt.subplots(figsize=(10,10))\n",
    "\n",
    "\n",
    "# visualizing the correlation matrix\n",
    "sns.heatmap(df_corr.loc[ ['Sale_Price', 'Total_Bsmt_SF_and_Gr_Liv_Area','Garage_Cars_and_TotRms_AbvGr', 'Garage_Area_and_First_Flr_SF'] , \n",
    "                         ['Sale_Price', 'Total_Bsmt_SF_and_Gr_Liv_Area', 'Garage_Cars_and_TotRms_AbvGr', 'Garage_Area_and_First_Flr_SF' ] ],\n",
    "            cmap = 'Blues',\n",
    "            square = True,\n",
    "            annot = True,\n",
    "            linecolor = 'black',\n",
    "            linewidths = 0.5)\n",
    "\n",
    "#Title of the map\n",
    "plt.title('Correlation with Sale Price')\n"
   ]
  },
  {
   "cell_type": "code",
   "execution_count": null,
   "id": "1ef79071",
   "metadata": {
    "cell_style": "split"
   },
   "outputs": [],
   "source": [
    "# code here\n",
    "#creating a correlation for the matrix\n",
    "df_corr = housing.corr().round(2)\n",
    "\n",
    "\n",
    "# setting figure size\n",
    "fig, ax = plt.subplots(figsize=(10,10))\n",
    "\n",
    "\n",
    "# visualizing the correlation matrix\n",
    "sns.heatmap(df_corr.loc[ ['log_Sale_Price', 'log_Total_Bsmt_SF_and_Gr_Liv_Area','log_Garage_Cars_and_TotRms_AbvGr', 'log_Garage_Area_and_First_Flr_SF'] , \n",
    "                         ['log_Sale_Price', 'log_Total_Bsmt_SF_and_Gr_Liv_Area', 'log_Garage_Cars_and_TotRms_AbvGr', 'log_Garage_Area_and_First_Flr_SF'] ],\n",
    "            cmap = 'Blues',\n",
    "            square = True,\n",
    "            annot = True,\n",
    "            linecolor = 'black',\n",
    "            linewidths = 0.5)\n",
    "\n",
    "#Title of the map\n",
    "plt.title('Correlation with Sale Price')"
   ]
  },
  {
   "cell_type": "markdown",
   "id": "984ec44b",
   "metadata": {
    "deletable": false,
    "editable": false,
    "run_control": {
     "frozen": true
    }
   },
   "source": [
    "<hr style=\"height:.9px;border:none;color:#333;background-color:#333;\" />\n",
    "<h3>Step 4: Explain the Results</h3><br>\n",
    "Did your engineered features have the effect that was expected? Explain in 1-2 sentences for each engineered feature."
   ]
  },
  {
   "cell_type": "markdown",
   "id": "82fdb9fd",
   "metadata": {},
   "source": [
    "### 1. Garage_Cars_and_TotRms_AbvGr\n",
    "The correlation for this feature is 0.64 and 0.66 for Sales_Price and Log_Sales price, respectively. Contrary to what was expected, the results indicated that the sum of garage cars and total rooms has a moderate influence to the increase in price.\n",
    "\n",
    " ### 2. Total_Bsmt_SF_and_Gr_Liv_Area\n",
    "The correlation of the sum of Basement area and the Gross Living area with the log of the sales price at 0.8 is higher than the correlation of this feature with sales price at 0.79. It shows that there is a strong correlation in having large basement and living areas to the price of the property. This is in line with the stated hypothesis.\n",
    "\n",
    "### 3. Garage_Area_and_First_Flr_SF\n",
    "The correlation between the sum of Garage and First Floor areas for both log sales price and sales price are both at 0.72. This correlation shows that the more utilizable space they have, the higher the sales price can be.\n"
   ]
  }
 ],
 "metadata": {
  "kernelspec": {
   "display_name": "Python 3 (ipykernel)",
   "language": "python",
   "name": "python3"
  },
  "language_info": {
   "codemirror_mode": {
    "name": "ipython",
    "version": 3
   },
   "file_extension": ".py",
   "mimetype": "text/x-python",
   "name": "python",
   "nbconvert_exporter": "python",
   "pygments_lexer": "ipython3",
   "version": "3.9.13"
  },
  "toc": {
   "base_numbering": 1,
   "nav_menu": {},
   "number_sections": false,
   "sideBar": true,
   "skip_h1_title": false,
   "title_cell": "Table of Contents",
   "title_sidebar": "Contents",
   "toc_cell": false,
   "toc_position": {},
   "toc_section_display": true,
   "toc_window_display": false
  },
  "varInspector": {
   "cols": {
    "lenName": 16,
    "lenType": 16,
    "lenVar": 40
   },
   "kernels_config": {
    "python": {
     "delete_cmd_postfix": "",
     "delete_cmd_prefix": "del ",
     "library": "var_list.py",
     "varRefreshCmd": "print(var_dic_list())"
    },
    "r": {
     "delete_cmd_postfix": ") ",
     "delete_cmd_prefix": "rm(",
     "library": "var_list.r",
     "varRefreshCmd": "cat(var_dic_list()) "
    }
   },
   "types_to_exclude": [
    "module",
    "function",
    "builtin_function_or_method",
    "instance",
    "_Feature"
   ],
   "window_display": false
  }
 },
 "nbformat": 4,
 "nbformat_minor": 5
}
